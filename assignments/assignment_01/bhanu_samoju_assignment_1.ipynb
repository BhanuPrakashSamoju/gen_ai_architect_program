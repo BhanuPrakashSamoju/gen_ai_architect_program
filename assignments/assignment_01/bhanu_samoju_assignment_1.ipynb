{
  "cells": [
    {
      "cell_type": "markdown",
      "metadata": {
        "id": "view-in-github",
        "colab_type": "text"
      },
      "source": [
        "<a href=\"https://colab.research.google.com/github/BhanuPrakashSamoju/gen_ai_architect_program/blob/main/assignments/assignment_01/bhanu_samoju_assignment_1.ipynb\" target=\"_parent\"><img src=\"https://colab.research.google.com/assets/colab-badge.svg\" alt=\"Open In Colab\"/></a>"
      ]
    },
    {
      "cell_type": "markdown",
      "source": [
        "/content/sample_data"
      ],
      "metadata": {
        "id": "yHT2EZ6BK8PR"
      },
      "id": "yHT2EZ6BK8PR"
    },
    {
      "cell_type": "code",
      "source": [
        "! ls /content/"
      ],
      "metadata": {
        "colab": {
          "base_uri": "https://localhost:8080/"
        },
        "id": "qSqzA7zsLeuA",
        "outputId": "3a20f964-de81-4a10-94d0-f23df918b9b8"
      },
      "id": "qSqzA7zsLeuA",
      "execution_count": null,
      "outputs": [
        {
          "output_type": "stream",
          "name": "stdout",
          "text": [
            "env  requirements.txt  sample_data\n"
          ]
        }
      ]
    },
    {
      "cell_type": "code",
      "source": [
        "! python3 -m pip install -r /content/requirements.txt"
      ],
      "metadata": {
        "colab": {
          "base_uri": "https://localhost:8080/"
        },
        "id": "nIlE_cuPM--Q",
        "outputId": "ae5317e7-9e52-41ca-d39c-8fb1686b1b4b"
      },
      "id": "nIlE_cuPM--Q",
      "execution_count": null,
      "outputs": [
        {
          "output_type": "stream",
          "name": "stdout",
          "text": [
            "Requirement already satisfied: langchain in /usr/local/lib/python3.12/dist-packages (from -r /content/requirements.txt (line 1)) (0.3.27)\n",
            "Requirement already satisfied: langgraph in /usr/local/lib/python3.12/dist-packages (from -r /content/requirements.txt (line 2)) (0.6.7)\n",
            "Requirement already satisfied: langchain-openai in /usr/local/lib/python3.12/dist-packages (from -r /content/requirements.txt (line 3)) (0.3.33)\n",
            "Requirement already satisfied: langchain-community in /usr/local/lib/python3.12/dist-packages (from -r /content/requirements.txt (line 4)) (0.3.29)\n",
            "Requirement already satisfied: duckduckgo-search in /usr/local/lib/python3.12/dist-packages (from -r /content/requirements.txt (line 5)) (8.1.1)\n",
            "Requirement already satisfied: yfinance in /usr/local/lib/python3.12/dist-packages (from -r /content/requirements.txt (line 6)) (0.2.65)\n",
            "Requirement already satisfied: pydantic in /usr/local/lib/python3.12/dist-packages (from -r /content/requirements.txt (line 7)) (2.11.7)\n",
            "Requirement already satisfied: mlflow in /usr/local/lib/python3.12/dist-packages (from -r /content/requirements.txt (line 8)) (3.3.2)\n",
            "Requirement already satisfied: python-dotenv in /usr/local/lib/python3.12/dist-packages (from -r /content/requirements.txt (line 9)) (1.1.1)\n",
            "Requirement already satisfied: langchain-core<1.0.0,>=0.3.72 in /usr/local/lib/python3.12/dist-packages (from langchain->-r /content/requirements.txt (line 1)) (0.3.76)\n",
            "Requirement already satisfied: langchain-text-splitters<1.0.0,>=0.3.9 in /usr/local/lib/python3.12/dist-packages (from langchain->-r /content/requirements.txt (line 1)) (0.3.11)\n",
            "Requirement already satisfied: langsmith>=0.1.17 in /usr/local/lib/python3.12/dist-packages (from langchain->-r /content/requirements.txt (line 1)) (0.4.24)\n",
            "Requirement already satisfied: SQLAlchemy<3,>=1.4 in /usr/local/lib/python3.12/dist-packages (from langchain->-r /content/requirements.txt (line 1)) (2.0.43)\n",
            "Requirement already satisfied: requests<3,>=2 in /usr/local/lib/python3.12/dist-packages (from langchain->-r /content/requirements.txt (line 1)) (2.32.5)\n",
            "Requirement already satisfied: PyYAML>=5.3 in /usr/local/lib/python3.12/dist-packages (from langchain->-r /content/requirements.txt (line 1)) (6.0.2)\n",
            "Requirement already satisfied: langgraph-checkpoint<3.0.0,>=2.1.0 in /usr/local/lib/python3.12/dist-packages (from langgraph->-r /content/requirements.txt (line 2)) (2.1.1)\n",
            "Requirement already satisfied: langgraph-prebuilt<0.7.0,>=0.6.0 in /usr/local/lib/python3.12/dist-packages (from langgraph->-r /content/requirements.txt (line 2)) (0.6.4)\n",
            "Requirement already satisfied: langgraph-sdk<0.3.0,>=0.2.2 in /usr/local/lib/python3.12/dist-packages (from langgraph->-r /content/requirements.txt (line 2)) (0.2.7)\n",
            "Requirement already satisfied: xxhash>=3.5.0 in /usr/local/lib/python3.12/dist-packages (from langgraph->-r /content/requirements.txt (line 2)) (3.5.0)\n",
            "Requirement already satisfied: openai<2.0.0,>=1.104.2 in /usr/local/lib/python3.12/dist-packages (from langchain-openai->-r /content/requirements.txt (line 3)) (1.106.1)\n",
            "Requirement already satisfied: tiktoken<1,>=0.7 in /usr/local/lib/python3.12/dist-packages (from langchain-openai->-r /content/requirements.txt (line 3)) (0.11.0)\n",
            "Requirement already satisfied: aiohttp<4.0.0,>=3.8.3 in /usr/local/lib/python3.12/dist-packages (from langchain-community->-r /content/requirements.txt (line 4)) (3.12.15)\n",
            "Requirement already satisfied: tenacity!=8.4.0,<10,>=8.1.0 in /usr/local/lib/python3.12/dist-packages (from langchain-community->-r /content/requirements.txt (line 4)) (8.5.0)\n",
            "Requirement already satisfied: dataclasses-json<0.7,>=0.6.7 in /usr/local/lib/python3.12/dist-packages (from langchain-community->-r /content/requirements.txt (line 4)) (0.6.7)\n",
            "Requirement already satisfied: pydantic-settings<3.0.0,>=2.10.1 in /usr/local/lib/python3.12/dist-packages (from langchain-community->-r /content/requirements.txt (line 4)) (2.10.1)\n",
            "Requirement already satisfied: httpx-sse<1.0.0,>=0.4.0 in /usr/local/lib/python3.12/dist-packages (from langchain-community->-r /content/requirements.txt (line 4)) (0.4.1)\n",
            "Requirement already satisfied: numpy>=1.26.2 in /usr/local/lib/python3.12/dist-packages (from langchain-community->-r /content/requirements.txt (line 4)) (2.0.2)\n",
            "Requirement already satisfied: click>=8.1.8 in /usr/local/lib/python3.12/dist-packages (from duckduckgo-search->-r /content/requirements.txt (line 5)) (8.2.1)\n",
            "Requirement already satisfied: primp>=0.15.0 in /usr/local/lib/python3.12/dist-packages (from duckduckgo-search->-r /content/requirements.txt (line 5)) (0.15.0)\n",
            "Requirement already satisfied: lxml>=5.3.0 in /usr/local/lib/python3.12/dist-packages (from duckduckgo-search->-r /content/requirements.txt (line 5)) (5.4.0)\n",
            "Requirement already satisfied: pandas>=1.3.0 in /usr/local/lib/python3.12/dist-packages (from yfinance->-r /content/requirements.txt (line 6)) (2.2.2)\n",
            "Requirement already satisfied: multitasking>=0.0.7 in /usr/local/lib/python3.12/dist-packages (from yfinance->-r /content/requirements.txt (line 6)) (0.0.12)\n",
            "Requirement already satisfied: platformdirs>=2.0.0 in /usr/local/lib/python3.12/dist-packages (from yfinance->-r /content/requirements.txt (line 6)) (4.4.0)\n",
            "Requirement already satisfied: pytz>=2022.5 in /usr/local/lib/python3.12/dist-packages (from yfinance->-r /content/requirements.txt (line 6)) (2025.2)\n",
            "Requirement already satisfied: frozendict>=2.3.4 in /usr/local/lib/python3.12/dist-packages (from yfinance->-r /content/requirements.txt (line 6)) (2.4.6)\n",
            "Requirement already satisfied: peewee>=3.16.2 in /usr/local/lib/python3.12/dist-packages (from yfinance->-r /content/requirements.txt (line 6)) (3.18.2)\n",
            "Requirement already satisfied: beautifulsoup4>=4.11.1 in /usr/local/lib/python3.12/dist-packages (from yfinance->-r /content/requirements.txt (line 6)) (4.13.5)\n",
            "Requirement already satisfied: curl_cffi>=0.7 in /usr/local/lib/python3.12/dist-packages (from yfinance->-r /content/requirements.txt (line 6)) (0.13.0)\n",
            "Requirement already satisfied: protobuf>=3.19.0 in /usr/local/lib/python3.12/dist-packages (from yfinance->-r /content/requirements.txt (line 6)) (5.29.5)\n",
            "Requirement already satisfied: websockets>=13.0 in /usr/local/lib/python3.12/dist-packages (from yfinance->-r /content/requirements.txt (line 6)) (15.0.1)\n",
            "Requirement already satisfied: annotated-types>=0.6.0 in /usr/local/lib/python3.12/dist-packages (from pydantic->-r /content/requirements.txt (line 7)) (0.7.0)\n",
            "Requirement already satisfied: pydantic-core==2.33.2 in /usr/local/lib/python3.12/dist-packages (from pydantic->-r /content/requirements.txt (line 7)) (2.33.2)\n",
            "Requirement already satisfied: typing-extensions>=4.12.2 in /usr/local/lib/python3.12/dist-packages (from pydantic->-r /content/requirements.txt (line 7)) (4.15.0)\n",
            "Requirement already satisfied: typing-inspection>=0.4.0 in /usr/local/lib/python3.12/dist-packages (from pydantic->-r /content/requirements.txt (line 7)) (0.4.1)\n",
            "Requirement already satisfied: mlflow-skinny==3.3.2 in /usr/local/lib/python3.12/dist-packages (from mlflow->-r /content/requirements.txt (line 8)) (3.3.2)\n",
            "Requirement already satisfied: mlflow-tracing==3.3.2 in /usr/local/lib/python3.12/dist-packages (from mlflow->-r /content/requirements.txt (line 8)) (3.3.2)\n",
            "Requirement already satisfied: Flask<4 in /usr/local/lib/python3.12/dist-packages (from mlflow->-r /content/requirements.txt (line 8)) (3.1.2)\n",
            "Requirement already satisfied: alembic!=1.10.0,<2 in /usr/local/lib/python3.12/dist-packages (from mlflow->-r /content/requirements.txt (line 8)) (1.16.5)\n",
            "Requirement already satisfied: cryptography<46,>=43.0.0 in /usr/local/lib/python3.12/dist-packages (from mlflow->-r /content/requirements.txt (line 8)) (43.0.3)\n",
            "Requirement already satisfied: docker<8,>=4.0.0 in /usr/local/lib/python3.12/dist-packages (from mlflow->-r /content/requirements.txt (line 8)) (7.1.0)\n",
            "Requirement already satisfied: graphene<4 in /usr/local/lib/python3.12/dist-packages (from mlflow->-r /content/requirements.txt (line 8)) (3.4.3)\n",
            "Requirement already satisfied: gunicorn<24 in /usr/local/lib/python3.12/dist-packages (from mlflow->-r /content/requirements.txt (line 8)) (23.0.0)\n",
            "Requirement already satisfied: matplotlib<4 in /usr/local/lib/python3.12/dist-packages (from mlflow->-r /content/requirements.txt (line 8)) (3.10.0)\n",
            "Requirement already satisfied: pyarrow<22,>=4.0.0 in /usr/local/lib/python3.12/dist-packages (from mlflow->-r /content/requirements.txt (line 8)) (18.1.0)\n",
            "Requirement already satisfied: scikit-learn<2 in /usr/local/lib/python3.12/dist-packages (from mlflow->-r /content/requirements.txt (line 8)) (1.6.1)\n",
            "Requirement already satisfied: scipy<2 in /usr/local/lib/python3.12/dist-packages (from mlflow->-r /content/requirements.txt (line 8)) (1.16.1)\n",
            "Requirement already satisfied: cachetools<7,>=5.0.0 in /usr/local/lib/python3.12/dist-packages (from mlflow-skinny==3.3.2->mlflow->-r /content/requirements.txt (line 8)) (5.5.2)\n",
            "Requirement already satisfied: cloudpickle<4 in /usr/local/lib/python3.12/dist-packages (from mlflow-skinny==3.3.2->mlflow->-r /content/requirements.txt (line 8)) (3.1.1)\n",
            "Requirement already satisfied: databricks-sdk<1,>=0.20.0 in /usr/local/lib/python3.12/dist-packages (from mlflow-skinny==3.3.2->mlflow->-r /content/requirements.txt (line 8)) (0.65.0)\n",
            "Requirement already satisfied: fastapi<1 in /usr/local/lib/python3.12/dist-packages (from mlflow-skinny==3.3.2->mlflow->-r /content/requirements.txt (line 8)) (0.116.1)\n",
            "Requirement already satisfied: gitpython<4,>=3.1.9 in /usr/local/lib/python3.12/dist-packages (from mlflow-skinny==3.3.2->mlflow->-r /content/requirements.txt (line 8)) (3.1.45)\n",
            "Requirement already satisfied: importlib_metadata!=4.7.0,<9,>=3.7.0 in /usr/local/lib/python3.12/dist-packages (from mlflow-skinny==3.3.2->mlflow->-r /content/requirements.txt (line 8)) (8.7.0)\n",
            "Requirement already satisfied: opentelemetry-api<3,>=1.9.0 in /usr/local/lib/python3.12/dist-packages (from mlflow-skinny==3.3.2->mlflow->-r /content/requirements.txt (line 8)) (1.36.0)\n",
            "Requirement already satisfied: opentelemetry-sdk<3,>=1.9.0 in /usr/local/lib/python3.12/dist-packages (from mlflow-skinny==3.3.2->mlflow->-r /content/requirements.txt (line 8)) (1.36.0)\n",
            "Requirement already satisfied: packaging<26 in /usr/local/lib/python3.12/dist-packages (from mlflow-skinny==3.3.2->mlflow->-r /content/requirements.txt (line 8)) (25.0)\n",
            "Requirement already satisfied: sqlparse<1,>=0.4.0 in /usr/local/lib/python3.12/dist-packages (from mlflow-skinny==3.3.2->mlflow->-r /content/requirements.txt (line 8)) (0.5.3)\n",
            "Requirement already satisfied: uvicorn<1 in /usr/local/lib/python3.12/dist-packages (from mlflow-skinny==3.3.2->mlflow->-r /content/requirements.txt (line 8)) (0.35.0)\n",
            "Requirement already satisfied: aiohappyeyeballs>=2.5.0 in /usr/local/lib/python3.12/dist-packages (from aiohttp<4.0.0,>=3.8.3->langchain-community->-r /content/requirements.txt (line 4)) (2.6.1)\n",
            "Requirement already satisfied: aiosignal>=1.4.0 in /usr/local/lib/python3.12/dist-packages (from aiohttp<4.0.0,>=3.8.3->langchain-community->-r /content/requirements.txt (line 4)) (1.4.0)\n",
            "Requirement already satisfied: attrs>=17.3.0 in /usr/local/lib/python3.12/dist-packages (from aiohttp<4.0.0,>=3.8.3->langchain-community->-r /content/requirements.txt (line 4)) (25.3.0)\n",
            "Requirement already satisfied: frozenlist>=1.1.1 in /usr/local/lib/python3.12/dist-packages (from aiohttp<4.0.0,>=3.8.3->langchain-community->-r /content/requirements.txt (line 4)) (1.7.0)\n",
            "Requirement already satisfied: multidict<7.0,>=4.5 in /usr/local/lib/python3.12/dist-packages (from aiohttp<4.0.0,>=3.8.3->langchain-community->-r /content/requirements.txt (line 4)) (6.6.4)\n",
            "Requirement already satisfied: propcache>=0.2.0 in /usr/local/lib/python3.12/dist-packages (from aiohttp<4.0.0,>=3.8.3->langchain-community->-r /content/requirements.txt (line 4)) (0.3.2)\n",
            "Requirement already satisfied: yarl<2.0,>=1.17.0 in /usr/local/lib/python3.12/dist-packages (from aiohttp<4.0.0,>=3.8.3->langchain-community->-r /content/requirements.txt (line 4)) (1.20.1)\n",
            "Requirement already satisfied: Mako in /usr/local/lib/python3.12/dist-packages (from alembic!=1.10.0,<2->mlflow->-r /content/requirements.txt (line 8)) (1.3.10)\n",
            "Requirement already satisfied: soupsieve>1.2 in /usr/local/lib/python3.12/dist-packages (from beautifulsoup4>=4.11.1->yfinance->-r /content/requirements.txt (line 6)) (2.8)\n",
            "Requirement already satisfied: cffi>=1.12 in /usr/local/lib/python3.12/dist-packages (from cryptography<46,>=43.0.0->mlflow->-r /content/requirements.txt (line 8)) (1.17.1)\n",
            "Requirement already satisfied: certifi>=2024.2.2 in /usr/local/lib/python3.12/dist-packages (from curl_cffi>=0.7->yfinance->-r /content/requirements.txt (line 6)) (2025.8.3)\n",
            "Requirement already satisfied: marshmallow<4.0.0,>=3.18.0 in /usr/local/lib/python3.12/dist-packages (from dataclasses-json<0.7,>=0.6.7->langchain-community->-r /content/requirements.txt (line 4)) (3.26.1)\n",
            "Requirement already satisfied: typing-inspect<1,>=0.4.0 in /usr/local/lib/python3.12/dist-packages (from dataclasses-json<0.7,>=0.6.7->langchain-community->-r /content/requirements.txt (line 4)) (0.9.0)\n",
            "Requirement already satisfied: urllib3>=1.26.0 in /usr/local/lib/python3.12/dist-packages (from docker<8,>=4.0.0->mlflow->-r /content/requirements.txt (line 8)) (2.5.0)\n",
            "Requirement already satisfied: blinker>=1.9.0 in /usr/local/lib/python3.12/dist-packages (from Flask<4->mlflow->-r /content/requirements.txt (line 8)) (1.9.0)\n",
            "Requirement already satisfied: itsdangerous>=2.2.0 in /usr/local/lib/python3.12/dist-packages (from Flask<4->mlflow->-r /content/requirements.txt (line 8)) (2.2.0)\n",
            "Requirement already satisfied: jinja2>=3.1.2 in /usr/local/lib/python3.12/dist-packages (from Flask<4->mlflow->-r /content/requirements.txt (line 8)) (3.1.6)\n",
            "Requirement already satisfied: markupsafe>=2.1.1 in /usr/local/lib/python3.12/dist-packages (from Flask<4->mlflow->-r /content/requirements.txt (line 8)) (3.0.2)\n",
            "Requirement already satisfied: werkzeug>=3.1.0 in /usr/local/lib/python3.12/dist-packages (from Flask<4->mlflow->-r /content/requirements.txt (line 8)) (3.1.3)\n",
            "Requirement already satisfied: graphql-core<3.3,>=3.1 in /usr/local/lib/python3.12/dist-packages (from graphene<4->mlflow->-r /content/requirements.txt (line 8)) (3.2.6)\n",
            "Requirement already satisfied: graphql-relay<3.3,>=3.1 in /usr/local/lib/python3.12/dist-packages (from graphene<4->mlflow->-r /content/requirements.txt (line 8)) (3.2.0)\n",
            "Requirement already satisfied: python-dateutil<3,>=2.7.0 in /usr/local/lib/python3.12/dist-packages (from graphene<4->mlflow->-r /content/requirements.txt (line 8)) (2.9.0.post0)\n",
            "Requirement already satisfied: jsonpatch<2.0,>=1.33 in /usr/local/lib/python3.12/dist-packages (from langchain-core<1.0.0,>=0.3.72->langchain->-r /content/requirements.txt (line 1)) (1.33)\n",
            "Requirement already satisfied: ormsgpack>=1.10.0 in /usr/local/lib/python3.12/dist-packages (from langgraph-checkpoint<3.0.0,>=2.1.0->langgraph->-r /content/requirements.txt (line 2)) (1.10.0)\n",
            "Requirement already satisfied: httpx>=0.25.2 in /usr/local/lib/python3.12/dist-packages (from langgraph-sdk<0.3.0,>=0.2.2->langgraph->-r /content/requirements.txt (line 2)) (0.28.1)\n",
            "Requirement already satisfied: orjson>=3.10.1 in /usr/local/lib/python3.12/dist-packages (from langgraph-sdk<0.3.0,>=0.2.2->langgraph->-r /content/requirements.txt (line 2)) (3.11.3)\n",
            "Requirement already satisfied: requests-toolbelt>=1.0.0 in /usr/local/lib/python3.12/dist-packages (from langsmith>=0.1.17->langchain->-r /content/requirements.txt (line 1)) (1.0.0)\n",
            "Requirement already satisfied: zstandard>=0.23.0 in /usr/local/lib/python3.12/dist-packages (from langsmith>=0.1.17->langchain->-r /content/requirements.txt (line 1)) (0.24.0)\n",
            "Requirement already satisfied: contourpy>=1.0.1 in /usr/local/lib/python3.12/dist-packages (from matplotlib<4->mlflow->-r /content/requirements.txt (line 8)) (1.3.3)\n",
            "Requirement already satisfied: cycler>=0.10 in /usr/local/lib/python3.12/dist-packages (from matplotlib<4->mlflow->-r /content/requirements.txt (line 8)) (0.12.1)\n",
            "Requirement already satisfied: fonttools>=4.22.0 in /usr/local/lib/python3.12/dist-packages (from matplotlib<4->mlflow->-r /content/requirements.txt (line 8)) (4.59.2)\n",
            "Requirement already satisfied: kiwisolver>=1.3.1 in /usr/local/lib/python3.12/dist-packages (from matplotlib<4->mlflow->-r /content/requirements.txt (line 8)) (1.4.9)\n",
            "Requirement already satisfied: pillow>=8 in /usr/local/lib/python3.12/dist-packages (from matplotlib<4->mlflow->-r /content/requirements.txt (line 8)) (11.3.0)\n",
            "Requirement already satisfied: pyparsing>=2.3.1 in /usr/local/lib/python3.12/dist-packages (from matplotlib<4->mlflow->-r /content/requirements.txt (line 8)) (3.2.3)\n",
            "Requirement already satisfied: anyio<5,>=3.5.0 in /usr/local/lib/python3.12/dist-packages (from openai<2.0.0,>=1.104.2->langchain-openai->-r /content/requirements.txt (line 3)) (4.10.0)\n",
            "Requirement already satisfied: distro<2,>=1.7.0 in /usr/local/lib/python3.12/dist-packages (from openai<2.0.0,>=1.104.2->langchain-openai->-r /content/requirements.txt (line 3)) (1.9.0)\n",
            "Requirement already satisfied: jiter<1,>=0.4.0 in /usr/local/lib/python3.12/dist-packages (from openai<2.0.0,>=1.104.2->langchain-openai->-r /content/requirements.txt (line 3)) (0.10.0)\n",
            "Requirement already satisfied: sniffio in /usr/local/lib/python3.12/dist-packages (from openai<2.0.0,>=1.104.2->langchain-openai->-r /content/requirements.txt (line 3)) (1.3.1)\n",
            "Requirement already satisfied: tqdm>4 in /usr/local/lib/python3.12/dist-packages (from openai<2.0.0,>=1.104.2->langchain-openai->-r /content/requirements.txt (line 3)) (4.67.1)\n",
            "Requirement already satisfied: tzdata>=2022.7 in /usr/local/lib/python3.12/dist-packages (from pandas>=1.3.0->yfinance->-r /content/requirements.txt (line 6)) (2025.2)\n",
            "Requirement already satisfied: charset_normalizer<4,>=2 in /usr/local/lib/python3.12/dist-packages (from requests<3,>=2->langchain->-r /content/requirements.txt (line 1)) (3.4.3)\n",
            "Requirement already satisfied: idna<4,>=2.5 in /usr/local/lib/python3.12/dist-packages (from requests<3,>=2->langchain->-r /content/requirements.txt (line 1)) (3.10)\n",
            "Requirement already satisfied: joblib>=1.2.0 in /usr/local/lib/python3.12/dist-packages (from scikit-learn<2->mlflow->-r /content/requirements.txt (line 8)) (1.5.2)\n",
            "Requirement already satisfied: threadpoolctl>=3.1.0 in /usr/local/lib/python3.12/dist-packages (from scikit-learn<2->mlflow->-r /content/requirements.txt (line 8)) (3.6.0)\n",
            "Requirement already satisfied: greenlet>=1 in /usr/local/lib/python3.12/dist-packages (from SQLAlchemy<3,>=1.4->langchain->-r /content/requirements.txt (line 1)) (3.2.4)\n",
            "Requirement already satisfied: regex>=2022.1.18 in /usr/local/lib/python3.12/dist-packages (from tiktoken<1,>=0.7->langchain-openai->-r /content/requirements.txt (line 3)) (2024.11.6)\n",
            "Requirement already satisfied: pycparser in /usr/local/lib/python3.12/dist-packages (from cffi>=1.12->cryptography<46,>=43.0.0->mlflow->-r /content/requirements.txt (line 8)) (2.22)\n",
            "Requirement already satisfied: google-auth~=2.0 in /usr/local/lib/python3.12/dist-packages (from databricks-sdk<1,>=0.20.0->mlflow-skinny==3.3.2->mlflow->-r /content/requirements.txt (line 8)) (2.38.0)\n",
            "Requirement already satisfied: starlette<0.48.0,>=0.40.0 in /usr/local/lib/python3.12/dist-packages (from fastapi<1->mlflow-skinny==3.3.2->mlflow->-r /content/requirements.txt (line 8)) (0.47.3)\n",
            "Requirement already satisfied: gitdb<5,>=4.0.1 in /usr/local/lib/python3.12/dist-packages (from gitpython<4,>=3.1.9->mlflow-skinny==3.3.2->mlflow->-r /content/requirements.txt (line 8)) (4.0.12)\n",
            "Requirement already satisfied: httpcore==1.* in /usr/local/lib/python3.12/dist-packages (from httpx>=0.25.2->langgraph-sdk<0.3.0,>=0.2.2->langgraph->-r /content/requirements.txt (line 2)) (1.0.9)\n",
            "Requirement already satisfied: h11>=0.16 in /usr/local/lib/python3.12/dist-packages (from httpcore==1.*->httpx>=0.25.2->langgraph-sdk<0.3.0,>=0.2.2->langgraph->-r /content/requirements.txt (line 2)) (0.16.0)\n",
            "Requirement already satisfied: zipp>=3.20 in /usr/local/lib/python3.12/dist-packages (from importlib_metadata!=4.7.0,<9,>=3.7.0->mlflow-skinny==3.3.2->mlflow->-r /content/requirements.txt (line 8)) (3.23.0)\n",
            "Requirement already satisfied: jsonpointer>=1.9 in /usr/local/lib/python3.12/dist-packages (from jsonpatch<2.0,>=1.33->langchain-core<1.0.0,>=0.3.72->langchain->-r /content/requirements.txt (line 1)) (3.0.0)\n",
            "Requirement already satisfied: opentelemetry-semantic-conventions==0.57b0 in /usr/local/lib/python3.12/dist-packages (from opentelemetry-sdk<3,>=1.9.0->mlflow-skinny==3.3.2->mlflow->-r /content/requirements.txt (line 8)) (0.57b0)\n",
            "Requirement already satisfied: six>=1.5 in /usr/local/lib/python3.12/dist-packages (from python-dateutil<3,>=2.7.0->graphene<4->mlflow->-r /content/requirements.txt (line 8)) (1.17.0)\n",
            "Requirement already satisfied: mypy-extensions>=0.3.0 in /usr/local/lib/python3.12/dist-packages (from typing-inspect<1,>=0.4.0->dataclasses-json<0.7,>=0.6.7->langchain-community->-r /content/requirements.txt (line 4)) (1.1.0)\n",
            "Requirement already satisfied: smmap<6,>=3.0.1 in /usr/local/lib/python3.12/dist-packages (from gitdb<5,>=4.0.1->gitpython<4,>=3.1.9->mlflow-skinny==3.3.2->mlflow->-r /content/requirements.txt (line 8)) (5.0.2)\n",
            "Requirement already satisfied: pyasn1-modules>=0.2.1 in /usr/local/lib/python3.12/dist-packages (from google-auth~=2.0->databricks-sdk<1,>=0.20.0->mlflow-skinny==3.3.2->mlflow->-r /content/requirements.txt (line 8)) (0.4.2)\n",
            "Requirement already satisfied: rsa<5,>=3.1.4 in /usr/local/lib/python3.12/dist-packages (from google-auth~=2.0->databricks-sdk<1,>=0.20.0->mlflow-skinny==3.3.2->mlflow->-r /content/requirements.txt (line 8)) (4.9.1)\n",
            "Requirement already satisfied: pyasn1<0.7.0,>=0.6.1 in /usr/local/lib/python3.12/dist-packages (from pyasn1-modules>=0.2.1->google-auth~=2.0->databricks-sdk<1,>=0.20.0->mlflow-skinny==3.3.2->mlflow->-r /content/requirements.txt (line 8)) (0.6.1)\n"
          ]
        }
      ]
    },
    {
      "cell_type": "code",
      "execution_count": null,
      "id": "4dd19471",
      "metadata": {
        "colab": {
          "base_uri": "https://localhost:8080/"
        },
        "id": "4dd19471",
        "outputId": "eadf672a-52bd-4a15-ae1e-2d50fe95f4cc"
      },
      "outputs": [
        {
          "output_type": "execute_result",
          "data": {
            "text/plain": [
              "True"
            ]
          },
          "metadata": {},
          "execution_count": 36
        }
      ],
      "source": [
        "import os\n",
        "import yfinance as yf\n",
        "from dotenv import load_dotenv\n",
        "from typing import List, TypedDict, Annotated\n",
        "import operator\n",
        "\n",
        "import mlflow\n",
        "from langgraph.graph import StateGraph, START, END\n",
        "\n",
        "from langchain_community.tools import DuckDuckGoSearchRun\n",
        "from langchain_community.tools.yahoo_finance_news import YahooFinanceNewsTool\n",
        "from langchain_openai import AzureChatOpenAI\n",
        "from pydantic import BaseModel, Field\n",
        "\n",
        "# --- Load Environment Variables ---\n",
        "# Make sure to create a .env file with your Azure OpenAI credentials\n",
        "load_dotenv(\"/content/env\")"
      ]
    },
    {
      "cell_type": "code",
      "source": [
        "import json"
      ],
      "metadata": {
        "id": "q-MEs5BWWFwK"
      },
      "id": "q-MEs5BWWFwK",
      "execution_count": null,
      "outputs": []
    },
    {
      "cell_type": "code",
      "source": [
        "!pip show pydantic"
      ],
      "metadata": {
        "colab": {
          "base_uri": "https://localhost:8080/"
        },
        "id": "TOrH-A9lTMQD",
        "outputId": "0056bacf-df40-4679-f1b0-42da51757b64"
      },
      "id": "TOrH-A9lTMQD",
      "execution_count": null,
      "outputs": [
        {
          "output_type": "stream",
          "name": "stdout",
          "text": [
            "Name: pydantic\n",
            "Version: 2.11.7\n",
            "Summary: Data validation using Python type hints\n",
            "Home-page: https://github.com/pydantic/pydantic\n",
            "Author: \n",
            "Author-email: Samuel Colvin <s@muelcolvin.com>, Eric Jolibois <em.jolibois@gmail.com>, Hasan Ramezani <hasan.r67@gmail.com>, Adrian Garcia Badaracco <1755071+adriangb@users.noreply.github.com>, Terrence Dorsey <terry@pydantic.dev>, David Montague <david@pydantic.dev>, Serge Matveenko <lig@countzero.co>, Marcelo Trylesinski <marcelotryle@gmail.com>, Sydney Runkle <sydneymarierunkle@gmail.com>, David Hewitt <mail@davidhewitt.io>, Alex Hall <alex.mojaki@gmail.com>, Victorien Plot <contact@vctrn.dev>\n",
            "License: \n",
            "Location: /usr/local/lib/python3.12/dist-packages\n",
            "Requires: annotated-types, pydantic-core, typing-extensions, typing-inspection\n",
            "Required-by: albumentations, confection, fastapi, google-adk, google-cloud-aiplatform, google-genai, google-generativeai, gradio, langchain, langchain-core, langgraph, langsmith, mcp, mlflow-skinny, mlflow-tracing, openai, pydantic-settings, spacy, thinc, wandb, weasel\n"
          ]
        }
      ]
    },
    {
      "cell_type": "code",
      "source": [
        "os.getenv(\"OPENAI_API_TYPE\")"
      ],
      "metadata": {
        "colab": {
          "base_uri": "https://localhost:8080/",
          "height": 35
        },
        "id": "YFCQyoGFOkpA",
        "outputId": "d48440f0-36a3-42ca-9e48-5b6ffc294eb7"
      },
      "id": "YFCQyoGFOkpA",
      "execution_count": null,
      "outputs": [
        {
          "output_type": "execute_result",
          "data": {
            "text/plain": [
              "'azure'"
            ],
            "application/vnd.google.colaboratory.intrinsic+json": {
              "type": "string"
            }
          },
          "metadata": {},
          "execution_count": 9
        }
      ]
    },
    {
      "cell_type": "code",
      "execution_count": null,
      "id": "a93347b0",
      "metadata": {
        "id": "a93347b0"
      },
      "outputs": [],
      "source": [
        "# --- 1. Define the Structured Output Schema using Pydantic ---\n",
        "class SentimentProfile(BaseModel):\n",
        "    \"\"\"Structured sentiment profile for a given company based on recent news.\"\"\"\n",
        "    company_name: str = Field(description=\"The name of the company being analyzed.\")\n",
        "    stock_code: str = Field(description=\"The stock market ticker symbol for the company.\")\n",
        "    news_summary: str = Field(description=\"A concise summary of the key news headlines provided.\")\n",
        "    sentiment: str = Field(description=\"Overall sentiment, classified as 'Positive', 'Negative', or 'Neutral'.\")\n",
        "    people_names: List[str] = Field(description=\"List of names of people mentioned in the news.\")\n",
        "    places_names: List[str] = Field(description=\"List of geographic places or locations mentioned.\")\n",
        "    other_companies_referred: List[str] = Field(description=\"List of other company names mentioned.\")\n",
        "    related_industries: List[str] = Field(description=\"List of industries related to the news content.\")\n",
        "    market_implications: str = Field(description=\"A brief analysis of the potential market implications of the news.\")\n",
        "    confidence_score: float = Field(description=\"A confidence score (0.0 to 1.0) for the sentiment classification.\")\n",
        "\n",
        "# --- 2. Define the State for the Graph ---\n",
        "# The state is a dictionary that will be passed between nodes in the graph.\n",
        "# Each field in the state is updated by a node as the graph progresses.\n",
        "class GraphState(TypedDict):\n",
        "    company_name: str\n",
        "    stock_code: str\n",
        "    news_articles: str\n",
        "    sentiment_profile: SentimentProfile"
      ]
    },
    {
      "cell_type": "code",
      "execution_count": null,
      "id": "a7f35477",
      "metadata": {
        "id": "a7f35477"
      },
      "outputs": [],
      "source": [
        "# --- 3. Define the Nodes of the Graph ---\n",
        "\n",
        "def find_stocks(search_query):\n",
        "    try:\n",
        "        search_results = yf.Search(search_query) # performing search\n",
        "        if search_results.quotes:\n",
        "            filtered_stocks = [\n",
        "                quote for quote in search_results.quotes if quote['quoteType'] == 'EQUITY' # filtering by 'EQUITY' quoteType\n",
        "            ]\n",
        "            return filtered_stocks\n",
        "        else:\n",
        "            return []\n",
        "    except Exception as e:\n",
        "        print(f\"Error during search: {e}\")\n",
        "        return []\n",
        "\n",
        "def get_stock_code(state: GraphState) -> GraphState:\n",
        "    \"\"\"\n",
        "    It uses the yfinance library to look up the ticker symbol.\n",
        "    \"\"\"\n",
        "    print(\"---Fetching Stock Code---\")\n",
        "    company_name = state['company_name']\n",
        "    try:\n",
        "\n",
        "        search_results = find_stocks(company_name)\n",
        "        if search_results:\n",
        "            print(f\"Found {len(search_results)} results for {company_name}:\")\n",
        "            # for stock in search_results:\n",
        "            #   print(f\"Name: {stock['longname']}, Ticker: {stock['symbol']}, QuoteType: {stock['quoteType']}\")\n",
        "            top_stock = search_results[0]\n",
        "            stock_code = top_stock['symbol']\n",
        "            print(f\"Found stock code for {company_name}: {stock_code}\")\n",
        "            return {\"stock_code\": stock_code}\n",
        "        else:\n",
        "            print(f\"No stocks found for '{search_term}'.\")\n",
        "\n",
        "        return {\"stock_code\": stock_code}\n",
        "    except Exception as e:\n",
        "        print(f\"Error fetching stock code for {company_name}: {e}\")\n",
        "        # If lookup fails, we can fall back to using the company name for news search\n",
        "        return {\"stock_code\": company_name}"
      ]
    },
    {
      "cell_type": "code",
      "source": [
        "company_name = \"Google\"\n",
        "\n",
        "def find_stocks(search_query):\n",
        "    try:\n",
        "        search_results = yf.Search(search_query) # performing search\n",
        "        if search_results.quotes:\n",
        "            filtered_stocks = [\n",
        "                quote for quote in search_results.quotes if quote['quoteType'] == 'EQUITY' # filtering by 'EQUITY' quoteType\n",
        "            ]\n",
        "            return filtered_stocks\n",
        "        else:\n",
        "            return []\n",
        "    except Exception as e:\n",
        "        print(f\"Error during search: {e}\")\n",
        "        return []\n",
        "\n",
        "\n",
        "search_term = company_name\n",
        "indian_stocks = find_stocks(search_term) # calling search and filter function\n",
        "if indian_stocks:\n",
        "    print(f\"Found {len(indian_stocks)} Indian stocks:\")\n",
        "    for stock in indian_stocks:\n",
        "      print(f\"Name: {stock['longname']}, Ticker: {stock['symbol']}, QuoteType: {stock['quoteType']}\")\n",
        "else:\n",
        "    print(f\"No Indian stocks found for '{search_term}'.\")\n",
        "\n",
        "# print(json.dumps(ticker.info, indent =2))\n"
      ],
      "metadata": {
        "colab": {
          "base_uri": "https://localhost:8080/"
        },
        "id": "DMUQHHsBZLiX",
        "outputId": "3970885f-d036-46d4-c82f-dd181a62238a"
      },
      "id": "DMUQHHsBZLiX",
      "execution_count": null,
      "outputs": [
        {
          "output_type": "stream",
          "name": "stdout",
          "text": [
            "Found 1 Indian stocks:\n",
            "Name: Alphabet Inc., Ticker: GOOG, QuoteType: EQUITY\n"
          ]
        }
      ]
    },
    {
      "cell_type": "code",
      "execution_count": null,
      "id": "2c21cadb",
      "metadata": {
        "id": "2c21cadb"
      },
      "outputs": [],
      "source": [
        "def fetch_news(state: GraphState) -> GraphState:\n",
        "    \"\"\"\n",
        "    Node 2: Fetches recent news for the company using its stock code.\n",
        "    It uses the YahooFinanceNewsTool for fetching news.\n",
        "    \"\"\"\n",
        "    print(\"---Fetching Company News---\")\n",
        "    stock_code = state['stock_code']\n",
        "    company_name = state['company_name']\n",
        "\n",
        "    # Using YahooFinanceNewsTool to fetch news.\n",
        "    news_tool = YahooFinanceNewsTool()\n",
        "\n",
        "    try:\n",
        "        # The YahooFinanceNewsTool takes the stock ticker as input\n",
        "        news = news_tool.run(stock_code)\n",
        "        print(f\"Successfully fetched news for {stock_code}.\")\n",
        "        return {\"news_articles\": news}\n",
        "    except Exception as e:\n",
        "        print(f\"Error fetching news for {stock_code}: {e}\")\n",
        "        return {\"news_articles\": \"Could not fetch news.\"}"
      ]
    },
    {
      "cell_type": "code",
      "execution_count": null,
      "id": "a732a569",
      "metadata": {
        "id": "a732a569"
      },
      "outputs": [],
      "source": [
        "def analyze_sentiment(state: GraphState) -> GraphState:\n",
        "    \"\"\"\n",
        "    It calls the Azure OpenAI model and forces it to return a JSON object\n",
        "    matching the SentimentProfile Pydantic schema.\n",
        "    \"\"\"\n",
        "    print(\"---Analyzing Sentiment with LLM---\")\n",
        "    company_name = state['company_name']\n",
        "    stock_code = state['stock_code']\n",
        "    news_articles = state['news_articles']\n",
        "\n",
        "    print(f\"State Variables: {company_name}, {stock_code}, {news_articles}\")\n",
        "\n",
        "    # Define the prompt template\n",
        "    prompt_template = \"\"\"\n",
        "    You are an expert financial analyst. Your task is to generate a structured sentiment profile\n",
        "    for the company '{company_name}' ({stock_code}) based on the following news articles.\n",
        "\n",
        "    Analyze the provided news content and generate a JSON object with the specified fields.\n",
        "\n",
        "    News Articles:\n",
        "    \"{news_articles}\"\n",
        "\n",
        "    Please provide your analysis in a structured JSON format.\n",
        "    \"\"\"\n",
        "\n",
        "    # Register or load the prompt using MLflow\n",
        "    prompt_name = \"bhanu-sentiment-analysis-prompt\"\n",
        "    try:\n",
        "        # Try to load the latest version of the prompt\n",
        "        prompt = mlflow.genai.load_prompt(f\"prompts:/{prompt_name}/latest\")\n",
        "        print(f\"Loaded existing prompt '{prompt.name}' (version {prompt.version})\")\n",
        "    except Exception:\n",
        "        # If the prompt doesn't exist, register it\n",
        "        print(f\"Prompt '{prompt_name}' not found. Registering a new one.\")\n",
        "        prompt = mlflow.genai.register_prompt(\n",
        "            name=prompt_name,\n",
        "            template=prompt_template,\n",
        "            description=\"Prompt for analyzing market sentiment of a company based on news.\",\n",
        "            tags={\n",
        "                \"task\": \"sentiment analysis\",\n",
        "                \"domain\": \"finance\",\n",
        "                \"model_output\": \"json\",\n",
        "            },\n",
        "        )\n",
        "        print(f\"Registered new prompt '{prompt.name}' (version {prompt.version})\")\n",
        "\n",
        "\n",
        "    # Initialize the Azure Chat Model\n",
        "    llm = AzureChatOpenAI(\n",
        "        azure_deployment=os.getenv(\"AZURE_OPENAI_DEPLOYMENT\"),\n",
        "        openai_api_version=os.getenv(\"AZURE_OPENAI_API_VERSION\"),\n",
        "        openai_api_key=os.getenv(\"AZURE_OPENAI_API_KEY\"),\n",
        "        azure_endpoint=os.getenv(\"AZURE_OPENAI_ENDPOINT\"),\n",
        "        openai_api_type=os.getenv(\"OPENAI_API_TYPE\"),\n",
        "        temperature=0,\n",
        "        # streaming=False,\n",
        "    )\n",
        "\n",
        "    structured_llm = llm.with_structured_output(SentimentProfile)\n",
        "\n",
        "    try:\n",
        "        # Invoke the model with the prompt and input variables\n",
        "        profile = structured_llm.invoke(prompt.format(company_name=company_name, stock_code=stock_code, news_articles=news_articles))\n",
        "        print(\"Successfully analyzed sentiment.\")\n",
        "        return {\"sentiment_profile\": profile.model_dump()}\n",
        "    except Exception as e:\n",
        "        print(f\"Error during sentiment analysis: {e}\")\n",
        "        return {\"sentiment_profile\": None} # Handle potential errors gracefully"
      ]
    },
    {
      "cell_type": "code",
      "execution_count": null,
      "id": "b527faf7",
      "metadata": {
        "id": "b527faf7"
      },
      "outputs": [],
      "source": [
        "# --- 4. Build the Graph ---\n",
        "# We define the workflow and connect the nodes in a specific sequence.\n",
        "\n",
        "# Create a new graph\n",
        "workflow = StateGraph(GraphState)\n",
        "\n",
        "# Add the nodes to the graph\n",
        "workflow.add_node(\"get_stock_code\", get_stock_code)\n",
        "workflow.add_node(\"fetch_news\", fetch_news)\n",
        "workflow.add_node(\"analyze_sentiment\", analyze_sentiment)\n",
        "\n",
        "workflow.add_edge(START, \"get_stock_code\")\n",
        "workflow.add_edge(\"get_stock_code\", \"fetch_news\")\n",
        "workflow.add_edge(\"fetch_news\", \"analyze_sentiment\")\n",
        "workflow.add_edge(\"analyze_sentiment\", END)\n",
        "\n",
        "# Compile the graph into a runnable object\n",
        "app = workflow.compile()\n"
      ]
    },
    {
      "cell_type": "code",
      "execution_count": null,
      "id": "d43d6eb6",
      "metadata": {
        "id": "d43d6eb6",
        "colab": {
          "base_uri": "https://localhost:8080/"
        },
        "outputId": "f410ec33-e33c-4efc-eee4-7cee8dd054d9"
      },
      "outputs": [
        {
          "output_type": "stream",
          "name": "stdout",
          "text": [
            "🚀 Starting sentiment analysis for: Google\n",
            "---Fetching Stock Code---\n",
            "Found 1 results for Google:\n",
            "Found stock code for Google: GOOG\n",
            "---Fetching Company News---\n",
            "Successfully fetched news for GOOG.\n",
            "---Analyzing Sentiment with LLM---\n",
            "State Variables: Google, GOOG, No news found for company that searched with GOOG ticker.\n",
            "Successfully analyzed sentiment.\n",
            "{'company_name': 'Google', 'stock_code': 'GOOG', 'news_articles': 'No news found for company that searched with GOOG ticker.', 'sentiment_profile': {'company_name': 'Google', 'stock_code': 'GOOG', 'news_summary': 'No news found for company that searched with GOOG ticker.', 'sentiment': 'Neutral', 'people_names': [], 'places_names': [], 'other_companies_referred': [], 'related_industries': [], 'market_implications': 'The lack of news suggests stability, but it may also indicate a lack of significant developments that could impact investor sentiment.', 'confidence_score': 0.5}}\n",
            "\n",
            "--- Final Sentiment Profile ---\n",
            "{'company_name': 'Google', 'stock_code': 'GOOG', 'news_summary': 'No news found for company that searched with GOOG ticker.', 'sentiment': 'Neutral', 'people_names': [], 'places_names': [], 'other_companies_referred': [], 'related_industries': [], 'market_implications': 'The lack of news suggests stability, but it may also indicate a lack of significant developments that could impact investor sentiment.', 'confidence_score': 0.5}\n",
            "\n",
            "✅ Analysis complete for Google.\n",
            "📈 Run `mlflow ui` in your terminal to view the trace.\n"
          ]
        }
      ],
      "source": [
        "\n",
        "company_to_analyze = \"Google\"\n",
        "inputs = {\"company_name\": company_to_analyze}\n",
        "\n",
        "mlflow.set_experiment(\"Market Sentiment Analysis\")\n",
        "mlflow.langchain.autolog() # Automatically logs all LangChain components\n",
        "\n",
        "with mlflow.start_run(run_name=f\"Sentiment Analysis for {company_to_analyze}\") as run:\n",
        "    print(f\"🚀 Starting sentiment analysis for: {company_to_analyze}\")\n",
        "\n",
        "    # Invoke the graph with the initial input\n",
        "    final_state = app.invoke(inputs)\n",
        "\n",
        "    print(final_state)\n",
        "\n",
        "    result_json = final_state['sentiment_profile']\n",
        "\n",
        "    print(\"\\n--- Final Sentiment Profile ---\")\n",
        "    print(result_json)\n",
        "\n",
        "    # Log the final JSON output as an artifact in MLflow\n",
        "    with open(\"sentiment_profile.json\", \"w\") as f:\n",
        "        f.write(json.dumps(result_json, indent=2))\n",
        "    mlflow.log_artifact(\"sentiment_profile.json\")\n",
        "\n",
        "print(f\"\\n✅ Analysis complete for {company_to_analyze}.\")\n",
        "print(\"📈 Run `mlflow ui` in your terminal to view the trace.\")"
      ]
    },
    {
      "cell_type": "code",
      "execution_count": null,
      "id": "cde448a7",
      "metadata": {
        "id": "cde448a7"
      },
      "outputs": [],
      "source": []
    },
    {
      "cell_type": "code",
      "execution_count": null,
      "id": "cb0a0b35",
      "metadata": {
        "id": "cb0a0b35"
      },
      "outputs": [],
      "source": []
    },
    {
      "cell_type": "code",
      "execution_count": null,
      "id": "c35cad84",
      "metadata": {
        "id": "c35cad84"
      },
      "outputs": [],
      "source": []
    },
    {
      "cell_type": "code",
      "execution_count": null,
      "id": "a5bacc65",
      "metadata": {
        "id": "a5bacc65"
      },
      "outputs": [],
      "source": []
    },
    {
      "cell_type": "code",
      "execution_count": null,
      "id": "18d9705a",
      "metadata": {
        "id": "18d9705a"
      },
      "outputs": [],
      "source": []
    }
  ],
  "metadata": {
    "kernelspec": {
      "display_name": ".venv",
      "language": "python",
      "name": "python3"
    },
    "language_info": {
      "codemirror_mode": {
        "name": "ipython",
        "version": 3
      },
      "file_extension": ".py",
      "mimetype": "text/x-python",
      "name": "python",
      "nbconvert_exporter": "python",
      "pygments_lexer": "ipython3",
      "version": "3.12.3"
    },
    "colab": {
      "provenance": [],
      "include_colab_link": true
    }
  },
  "nbformat": 4,
  "nbformat_minor": 5
}